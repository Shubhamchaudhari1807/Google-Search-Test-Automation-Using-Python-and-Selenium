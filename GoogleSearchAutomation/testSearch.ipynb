{
 "cells": [
  {
   "cell_type": "code",
   "execution_count": null,
   "id": "ff0d437f-852a-4deb-bde0-720aaf7a6878",
   "metadata": {},
   "outputs": [
    {
     "name": "stdin",
     "output_type": "stream",
     "text": [
      "Enter the Topic you wanna Search:  British Army\n"
     ]
    }
   ],
   "source": [
    "from selenium import webdriver  \n",
    "from selenium.webdriver.chrome.service import Service  \n",
    "from selenium.webdriver.chrome.options import Options  \n",
    "import time    \n",
    "\n",
    "  \n",
    "topic_search = input(\"Enter the Topic you wanna Search: \")  \n",
    "topic_search = topic_search.replace(' ', '+')    \n",
    "\n",
    "  \n",
    "chrome_options = Options()  \n",
    "chrome_options.add_argument(\"--start-maximized\")    \n",
    "  \n",
    "\n",
    "  \n",
    "service = Service(r'C:\\Users\\Admin\\Downloads\\chromedriver-win64\\chromedriver-win64\\chromedriver.exe')  \n",
    "\n",
    "  \n",
    "browser = webdriver.Chrome(service=service, options=chrome_options)  \n",
    "\n",
    "  \n",
    "for i in range(1):  \n",
    "    browser.get(\"https://www.google.com/search?q=\" + topic_search + \"&start=\" + str(i * 10))  \n",
    "\n",
    "  \n",
    "time.sleep(5000)  \n",
    "\n",
    "  \n",
    "browser.quit()  "
   ]
  },
  {
   "cell_type": "code",
   "execution_count": null,
   "id": "f78086fb-4edf-4281-98a5-06de270ac3e4",
   "metadata": {},
   "outputs": [],
   "source": []
  }
 ],
 "metadata": {
  "kernelspec": {
   "display_name": "Python 3 (ipykernel)",
   "language": "python",
   "name": "python3"
  },
  "language_info": {
   "codemirror_mode": {
    "name": "ipython",
    "version": 3
   },
   "file_extension": ".py",
   "mimetype": "text/x-python",
   "name": "python",
   "nbconvert_exporter": "python",
   "pygments_lexer": "ipython3",
   "version": "3.12.4"
  }
 },
 "nbformat": 4,
 "nbformat_minor": 5
}
